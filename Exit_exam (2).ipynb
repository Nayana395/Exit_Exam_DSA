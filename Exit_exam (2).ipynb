{
 "cells": [
  {
   "cell_type": "markdown",
   "id": "3c091a7b-7c58-474d-98da-676f7a5f1ae9",
   "metadata": {},
   "source": [
    "# Food Demand Forecasting\n",
    "```\n",
    "Demand forecasting is a key component to every growing online business. Without proper demand forecasting processes in place, it can be nearly impossible to have the right amount of stock on hand at any given time. A food delivery service has to deal with a lot of perishable raw materials which makes it all the more important for such a company to accurately forecast daily and weekly demand.\n",
    "\n",
    "Too much inventory in the warehouse means more risk of wastage, and not enough could lead to out-of-stocks — and push customers to seek solutions from your competitors. In this challenge, get a taste of demand forecasting challenge using a real dataset.\n",
    "```"
   ]
  },
  {
   "cell_type": "markdown",
   "id": "6ef9a569-b279-49c4-a021-b86914b16042",
   "metadata": {},
   "source": [
    "### Import Libraries"
   ]
  },
  {
   "cell_type": "code",
   "execution_count": 3,
   "id": "d6bbf27b-b36b-4a91-acce-cc00eb552f07",
   "metadata": {},
   "outputs": [],
   "source": [
    "import numpy as np\n",
    "import pandas as pd\n",
    "import seaborn as sns\n",
    "import matplotlib.pyplot as plt\n",
    "import scipy.stats as stats\n",
    "from sklearn.utils import resample\n",
    "from sklearn import preprocessing"
   ]
  },
  {
   "cell_type": "markdown",
   "id": "098bb4df-ebff-4f9b-a30a-a54f9dab4767",
   "metadata": {
    "jp-MarkdownHeadingCollapsed": true
   },
   "source": [
    "### Read Data"
   ]
  },
  {
   "cell_type": "code",
   "execution_count": 5,
   "id": "ee5424ca-03d4-4309-a37a-2e9de08fcfb2",
   "metadata": {},
   "outputs": [],
   "source": [
    "# Read test data\n",
    "test=pd.read_csv(\"C:\\\\Users\\\\NAYANA\\\\Downloads\\\\test_QoiMO9B.csv\")"
   ]
  },
  {
   "cell_type": "code",
   "execution_count": 6,
   "id": "6bc42ded-af93-4011-b1fc-56d130ef0c36",
   "metadata": {},
   "outputs": [
    {
     "data": {
      "text/html": [
       "<div>\n",
       "<style scoped>\n",
       "    .dataframe tbody tr th:only-of-type {\n",
       "        vertical-align: middle;\n",
       "    }\n",
       "\n",
       "    .dataframe tbody tr th {\n",
       "        vertical-align: top;\n",
       "    }\n",
       "\n",
       "    .dataframe thead th {\n",
       "        text-align: right;\n",
       "    }\n",
       "</style>\n",
       "<table border=\"1\" class=\"dataframe\">\n",
       "  <thead>\n",
       "    <tr style=\"text-align: right;\">\n",
       "      <th></th>\n",
       "      <th>id</th>\n",
       "      <th>week</th>\n",
       "      <th>center_id</th>\n",
       "      <th>meal_id</th>\n",
       "      <th>checkout_price</th>\n",
       "      <th>base_price</th>\n",
       "      <th>emailer_for_promotion</th>\n",
       "      <th>homepage_featured</th>\n",
       "    </tr>\n",
       "  </thead>\n",
       "  <tbody>\n",
       "    <tr>\n",
       "      <th>0</th>\n",
       "      <td>1028232</td>\n",
       "      <td>146</td>\n",
       "      <td>55</td>\n",
       "      <td>1885</td>\n",
       "      <td>158.11</td>\n",
       "      <td>159.11</td>\n",
       "      <td>0</td>\n",
       "      <td>0</td>\n",
       "    </tr>\n",
       "    <tr>\n",
       "      <th>1</th>\n",
       "      <td>1127204</td>\n",
       "      <td>146</td>\n",
       "      <td>55</td>\n",
       "      <td>1993</td>\n",
       "      <td>160.11</td>\n",
       "      <td>159.11</td>\n",
       "      <td>0</td>\n",
       "      <td>0</td>\n",
       "    </tr>\n",
       "    <tr>\n",
       "      <th>2</th>\n",
       "      <td>1212707</td>\n",
       "      <td>146</td>\n",
       "      <td>55</td>\n",
       "      <td>2539</td>\n",
       "      <td>157.14</td>\n",
       "      <td>159.14</td>\n",
       "      <td>0</td>\n",
       "      <td>0</td>\n",
       "    </tr>\n",
       "    <tr>\n",
       "      <th>3</th>\n",
       "      <td>1082698</td>\n",
       "      <td>146</td>\n",
       "      <td>55</td>\n",
       "      <td>2631</td>\n",
       "      <td>162.02</td>\n",
       "      <td>162.02</td>\n",
       "      <td>0</td>\n",
       "      <td>0</td>\n",
       "    </tr>\n",
       "    <tr>\n",
       "      <th>4</th>\n",
       "      <td>1400926</td>\n",
       "      <td>146</td>\n",
       "      <td>55</td>\n",
       "      <td>1248</td>\n",
       "      <td>163.93</td>\n",
       "      <td>163.93</td>\n",
       "      <td>0</td>\n",
       "      <td>0</td>\n",
       "    </tr>\n",
       "  </tbody>\n",
       "</table>\n",
       "</div>"
      ],
      "text/plain": [
       "        id  week  center_id  meal_id  checkout_price  base_price  \\\n",
       "0  1028232   146         55     1885          158.11      159.11   \n",
       "1  1127204   146         55     1993          160.11      159.11   \n",
       "2  1212707   146         55     2539          157.14      159.14   \n",
       "3  1082698   146         55     2631          162.02      162.02   \n",
       "4  1400926   146         55     1248          163.93      163.93   \n",
       "\n",
       "   emailer_for_promotion  homepage_featured  \n",
       "0                      0                  0  \n",
       "1                      0                  0  \n",
       "2                      0                  0  \n",
       "3                      0                  0  \n",
       "4                      0                  0  "
      ]
     },
     "execution_count": 6,
     "metadata": {},
     "output_type": "execute_result"
    }
   ],
   "source": [
    "test.head()"
   ]
  },
  {
   "cell_type": "code",
   "execution_count": 7,
   "id": "5fa01338-5a26-4b62-803a-1f65a994a38d",
   "metadata": {},
   "outputs": [],
   "source": [
    "# read train data\n",
    "train=pd.read_csv(\"C:\\\\Users\\\\NAYANA\\\\Downloads\\\\train_GzS76OK\\\\train.csv\")"
   ]
  },
  {
   "cell_type": "code",
   "execution_count": 8,
   "id": "747f3e8e-d1bc-4844-9098-e228b602597e",
   "metadata": {},
   "outputs": [
    {
     "data": {
      "text/html": [
       "<div>\n",
       "<style scoped>\n",
       "    .dataframe tbody tr th:only-of-type {\n",
       "        vertical-align: middle;\n",
       "    }\n",
       "\n",
       "    .dataframe tbody tr th {\n",
       "        vertical-align: top;\n",
       "    }\n",
       "\n",
       "    .dataframe thead th {\n",
       "        text-align: right;\n",
       "    }\n",
       "</style>\n",
       "<table border=\"1\" class=\"dataframe\">\n",
       "  <thead>\n",
       "    <tr style=\"text-align: right;\">\n",
       "      <th></th>\n",
       "      <th>id</th>\n",
       "      <th>week</th>\n",
       "      <th>center_id</th>\n",
       "      <th>meal_id</th>\n",
       "      <th>checkout_price</th>\n",
       "      <th>base_price</th>\n",
       "      <th>emailer_for_promotion</th>\n",
       "      <th>homepage_featured</th>\n",
       "      <th>num_orders</th>\n",
       "    </tr>\n",
       "  </thead>\n",
       "  <tbody>\n",
       "    <tr>\n",
       "      <th>0</th>\n",
       "      <td>1379560</td>\n",
       "      <td>1</td>\n",
       "      <td>55</td>\n",
       "      <td>1885</td>\n",
       "      <td>136.83</td>\n",
       "      <td>152.29</td>\n",
       "      <td>0</td>\n",
       "      <td>0</td>\n",
       "      <td>177</td>\n",
       "    </tr>\n",
       "    <tr>\n",
       "      <th>1</th>\n",
       "      <td>1466964</td>\n",
       "      <td>1</td>\n",
       "      <td>55</td>\n",
       "      <td>1993</td>\n",
       "      <td>136.83</td>\n",
       "      <td>135.83</td>\n",
       "      <td>0</td>\n",
       "      <td>0</td>\n",
       "      <td>270</td>\n",
       "    </tr>\n",
       "    <tr>\n",
       "      <th>2</th>\n",
       "      <td>1346989</td>\n",
       "      <td>1</td>\n",
       "      <td>55</td>\n",
       "      <td>2539</td>\n",
       "      <td>134.86</td>\n",
       "      <td>135.86</td>\n",
       "      <td>0</td>\n",
       "      <td>0</td>\n",
       "      <td>189</td>\n",
       "    </tr>\n",
       "    <tr>\n",
       "      <th>3</th>\n",
       "      <td>1338232</td>\n",
       "      <td>1</td>\n",
       "      <td>55</td>\n",
       "      <td>2139</td>\n",
       "      <td>339.50</td>\n",
       "      <td>437.53</td>\n",
       "      <td>0</td>\n",
       "      <td>0</td>\n",
       "      <td>54</td>\n",
       "    </tr>\n",
       "    <tr>\n",
       "      <th>4</th>\n",
       "      <td>1448490</td>\n",
       "      <td>1</td>\n",
       "      <td>55</td>\n",
       "      <td>2631</td>\n",
       "      <td>243.50</td>\n",
       "      <td>242.50</td>\n",
       "      <td>0</td>\n",
       "      <td>0</td>\n",
       "      <td>40</td>\n",
       "    </tr>\n",
       "  </tbody>\n",
       "</table>\n",
       "</div>"
      ],
      "text/plain": [
       "        id  week  center_id  meal_id  checkout_price  base_price  \\\n",
       "0  1379560     1         55     1885          136.83      152.29   \n",
       "1  1466964     1         55     1993          136.83      135.83   \n",
       "2  1346989     1         55     2539          134.86      135.86   \n",
       "3  1338232     1         55     2139          339.50      437.53   \n",
       "4  1448490     1         55     2631          243.50      242.50   \n",
       "\n",
       "   emailer_for_promotion  homepage_featured  num_orders  \n",
       "0                      0                  0         177  \n",
       "1                      0                  0         270  \n",
       "2                      0                  0         189  \n",
       "3                      0                  0          54  \n",
       "4                      0                  0          40  "
      ]
     },
     "execution_count": 8,
     "metadata": {},
     "output_type": "execute_result"
    }
   ],
   "source": [
    "train.head()"
   ]
  },
  {
   "cell_type": "markdown",
   "id": "a9020c84-7683-4dd2-baac-aa1066062ae2",
   "metadata": {
    "jp-MarkdownHeadingCollapsed": true
   },
   "source": [
    "### Data Understanding"
   ]
  },
  {
   "cell_type": "code",
   "execution_count": 10,
   "id": "076b651a-46da-4118-ae19-b35790321406",
   "metadata": {},
   "outputs": [
    {
     "data": {
      "text/plain": [
       "Index(['id', 'week', 'center_id', 'meal_id', 'checkout_price', 'base_price',\n",
       "       'emailer_for_promotion', 'homepage_featured'],\n",
       "      dtype='object')"
      ]
     },
     "execution_count": 10,
     "metadata": {},
     "output_type": "execute_result"
    }
   ],
   "source": [
    "test.columns # columns in the teat DataFrame"
   ]
  },
  {
   "cell_type": "code",
   "execution_count": 11,
   "id": "e5475da9-ecf0-40c8-a5f5-c9b1c5b90bb0",
   "metadata": {},
   "outputs": [
    {
     "data": {
      "text/plain": [
       "Index(['id', 'week', 'center_id', 'meal_id', 'checkout_price', 'base_price',\n",
       "       'emailer_for_promotion', 'homepage_featured', 'num_orders'],\n",
       "      dtype='object')"
      ]
     },
     "execution_count": 11,
     "metadata": {},
     "output_type": "execute_result"
    }
   ],
   "source": [
    "train.columns # columns in the train DataFrame"
   ]
  },
  {
   "cell_type": "code",
   "execution_count": 12,
   "id": "a7151857-9402-4e9b-98d5-8b15499f646c",
   "metadata": {},
   "outputs": [
    {
     "data": {
      "text/plain": [
       "(32573, 8)"
      ]
     },
     "execution_count": 12,
     "metadata": {},
     "output_type": "execute_result"
    }
   ],
   "source": [
    "test.shape"
   ]
  },
  {
   "cell_type": "code",
   "execution_count": 13,
   "id": "d25a1d14-321f-418e-a3db-38b1afc1888c",
   "metadata": {},
   "outputs": [
    {
     "name": "stdout",
     "output_type": "stream",
     "text": [
      "Number of columns in test data : 32573\n",
      "Number of columns in test data : 8\n"
     ]
    }
   ],
   "source": [
    "print(\"Number of columns in test data :\", test.shape[0])\n",
    "print(\"Number of columns in test data :\", test.shape[1])"
   ]
  },
  {
   "cell_type": "code",
   "execution_count": 14,
   "id": "d1d105a6-f596-4572-be2c-1626714470c2",
   "metadata": {},
   "outputs": [
    {
     "data": {
      "text/plain": [
       "(456548, 9)"
      ]
     },
     "execution_count": 14,
     "metadata": {},
     "output_type": "execute_result"
    }
   ],
   "source": [
    "train.shape"
   ]
  },
  {
   "cell_type": "code",
   "execution_count": 15,
   "id": "92ef34bf-fae5-4659-9740-778e5aa994aa",
   "metadata": {},
   "outputs": [
    {
     "name": "stdout",
     "output_type": "stream",
     "text": [
      "<class 'pandas.core.frame.DataFrame'>\n",
      "RangeIndex: 32573 entries, 0 to 32572\n",
      "Data columns (total 8 columns):\n",
      " #   Column                 Non-Null Count  Dtype  \n",
      "---  ------                 --------------  -----  \n",
      " 0   id                     32573 non-null  int64  \n",
      " 1   week                   32573 non-null  int64  \n",
      " 2   center_id              32573 non-null  int64  \n",
      " 3   meal_id                32573 non-null  int64  \n",
      " 4   checkout_price         32573 non-null  float64\n",
      " 5   base_price             32573 non-null  float64\n",
      " 6   emailer_for_promotion  32573 non-null  int64  \n",
      " 7   homepage_featured      32573 non-null  int64  \n",
      "dtypes: float64(2), int64(6)\n",
      "memory usage: 2.0 MB\n"
     ]
    }
   ],
   "source": [
    "test.info()"
   ]
  },
  {
   "cell_type": "markdown",
   "id": "d2f25c56-3122-433e-b8e2-a709627892de",
   "metadata": {},
   "source": [
    "**About test data**\n",
    "\n",
    "Their is no missing values in the test dataset\n",
    "\n",
    "It only includes numerical columns"
   ]
  },
  {
   "cell_type": "code",
   "execution_count": 17,
   "id": "6d6508cb-343b-4257-a3b9-514d92802de5",
   "metadata": {},
   "outputs": [
    {
     "name": "stdout",
     "output_type": "stream",
     "text": [
      "Number of columns in test data : 456548\n",
      "Number of columns in test data : 9\n"
     ]
    }
   ],
   "source": [
    "print(\"Number of columns in test data :\", train.shape[0])\n",
    "print(\"Number of columns in test data :\", train.shape[1])"
   ]
  },
  {
   "cell_type": "code",
   "execution_count": 18,
   "id": "68d76c7e-13ec-4e0c-a291-fcc0e23c432e",
   "metadata": {},
   "outputs": [
    {
     "name": "stdout",
     "output_type": "stream",
     "text": [
      "<class 'pandas.core.frame.DataFrame'>\n",
      "RangeIndex: 456548 entries, 0 to 456547\n",
      "Data columns (total 9 columns):\n",
      " #   Column                 Non-Null Count   Dtype  \n",
      "---  ------                 --------------   -----  \n",
      " 0   id                     456548 non-null  int64  \n",
      " 1   week                   456548 non-null  int64  \n",
      " 2   center_id              456548 non-null  int64  \n",
      " 3   meal_id                456548 non-null  int64  \n",
      " 4   checkout_price         456548 non-null  float64\n",
      " 5   base_price             456548 non-null  float64\n",
      " 6   emailer_for_promotion  456548 non-null  int64  \n",
      " 7   homepage_featured      456548 non-null  int64  \n",
      " 8   num_orders             456548 non-null  int64  \n",
      "dtypes: float64(2), int64(7)\n",
      "memory usage: 31.3 MB\n"
     ]
    }
   ],
   "source": [
    "train.info()"
   ]
  },
  {
   "cell_type": "markdown",
   "id": "12e29577-1dc6-4b1a-930e-1dd4e09f3753",
   "metadata": {},
   "source": [
    "**About test data**\n",
    "\n",
    "Thier is no missing values in train dataset\n",
    "\n",
    "All columns are numerical"
   ]
  },
  {
   "cell_type": "markdown",
   "id": "c6e37bb5-4dad-43ca-a57b-b64e0b2b56cb",
   "metadata": {},
   "source": [
    "#### Statistical Summary"
   ]
  },
  {
   "cell_type": "code",
   "execution_count": 21,
   "id": "553eb7ae-5086-49d6-b983-05a9d7bff2f2",
   "metadata": {},
   "outputs": [
    {
     "data": {
      "text/html": [
       "<div>\n",
       "<style scoped>\n",
       "    .dataframe tbody tr th:only-of-type {\n",
       "        vertical-align: middle;\n",
       "    }\n",
       "\n",
       "    .dataframe tbody tr th {\n",
       "        vertical-align: top;\n",
       "    }\n",
       "\n",
       "    .dataframe thead th {\n",
       "        text-align: right;\n",
       "    }\n",
       "</style>\n",
       "<table border=\"1\" class=\"dataframe\">\n",
       "  <thead>\n",
       "    <tr style=\"text-align: right;\">\n",
       "      <th></th>\n",
       "      <th>id</th>\n",
       "      <th>week</th>\n",
       "      <th>center_id</th>\n",
       "      <th>meal_id</th>\n",
       "      <th>checkout_price</th>\n",
       "      <th>base_price</th>\n",
       "      <th>emailer_for_promotion</th>\n",
       "      <th>homepage_featured</th>\n",
       "    </tr>\n",
       "  </thead>\n",
       "  <tbody>\n",
       "    <tr>\n",
       "      <th>count</th>\n",
       "      <td>3.257300e+04</td>\n",
       "      <td>32573.000000</td>\n",
       "      <td>32573.000000</td>\n",
       "      <td>32573.000000</td>\n",
       "      <td>32573.000000</td>\n",
       "      <td>32573.000000</td>\n",
       "      <td>32573.000000</td>\n",
       "      <td>32573.000000</td>\n",
       "    </tr>\n",
       "    <tr>\n",
       "      <th>mean</th>\n",
       "      <td>1.248476e+06</td>\n",
       "      <td>150.477819</td>\n",
       "      <td>81.901728</td>\n",
       "      <td>2032.067909</td>\n",
       "      <td>341.854440</td>\n",
       "      <td>356.493615</td>\n",
       "      <td>0.066435</td>\n",
       "      <td>0.081356</td>\n",
       "    </tr>\n",
       "    <tr>\n",
       "      <th>std</th>\n",
       "      <td>1.441580e+05</td>\n",
       "      <td>2.864072</td>\n",
       "      <td>45.950455</td>\n",
       "      <td>547.199004</td>\n",
       "      <td>153.893886</td>\n",
       "      <td>155.150101</td>\n",
       "      <td>0.249045</td>\n",
       "      <td>0.273385</td>\n",
       "    </tr>\n",
       "    <tr>\n",
       "      <th>min</th>\n",
       "      <td>1.000085e+06</td>\n",
       "      <td>146.000000</td>\n",
       "      <td>10.000000</td>\n",
       "      <td>1062.000000</td>\n",
       "      <td>67.900000</td>\n",
       "      <td>89.240000</td>\n",
       "      <td>0.000000</td>\n",
       "      <td>0.000000</td>\n",
       "    </tr>\n",
       "    <tr>\n",
       "      <th>25%</th>\n",
       "      <td>1.123969e+06</td>\n",
       "      <td>148.000000</td>\n",
       "      <td>43.000000</td>\n",
       "      <td>1558.000000</td>\n",
       "      <td>214.430000</td>\n",
       "      <td>243.500000</td>\n",
       "      <td>0.000000</td>\n",
       "      <td>0.000000</td>\n",
       "    </tr>\n",
       "    <tr>\n",
       "      <th>50%</th>\n",
       "      <td>1.247296e+06</td>\n",
       "      <td>150.000000</td>\n",
       "      <td>76.000000</td>\n",
       "      <td>1993.000000</td>\n",
       "      <td>320.130000</td>\n",
       "      <td>321.130000</td>\n",
       "      <td>0.000000</td>\n",
       "      <td>0.000000</td>\n",
       "    </tr>\n",
       "    <tr>\n",
       "      <th>75%</th>\n",
       "      <td>1.372971e+06</td>\n",
       "      <td>153.000000</td>\n",
       "      <td>110.000000</td>\n",
       "      <td>2569.000000</td>\n",
       "      <td>446.230000</td>\n",
       "      <td>455.930000</td>\n",
       "      <td>0.000000</td>\n",
       "      <td>0.000000</td>\n",
       "    </tr>\n",
       "    <tr>\n",
       "      <th>max</th>\n",
       "      <td>1.499996e+06</td>\n",
       "      <td>155.000000</td>\n",
       "      <td>186.000000</td>\n",
       "      <td>2956.000000</td>\n",
       "      <td>1113.620000</td>\n",
       "      <td>1112.620000</td>\n",
       "      <td>1.000000</td>\n",
       "      <td>1.000000</td>\n",
       "    </tr>\n",
       "  </tbody>\n",
       "</table>\n",
       "</div>"
      ],
      "text/plain": [
       "                 id          week     center_id       meal_id  checkout_price  \\\n",
       "count  3.257300e+04  32573.000000  32573.000000  32573.000000    32573.000000   \n",
       "mean   1.248476e+06    150.477819     81.901728   2032.067909      341.854440   \n",
       "std    1.441580e+05      2.864072     45.950455    547.199004      153.893886   \n",
       "min    1.000085e+06    146.000000     10.000000   1062.000000       67.900000   \n",
       "25%    1.123969e+06    148.000000     43.000000   1558.000000      214.430000   \n",
       "50%    1.247296e+06    150.000000     76.000000   1993.000000      320.130000   \n",
       "75%    1.372971e+06    153.000000    110.000000   2569.000000      446.230000   \n",
       "max    1.499996e+06    155.000000    186.000000   2956.000000     1113.620000   \n",
       "\n",
       "         base_price  emailer_for_promotion  homepage_featured  \n",
       "count  32573.000000           32573.000000       32573.000000  \n",
       "mean     356.493615               0.066435           0.081356  \n",
       "std      155.150101               0.249045           0.273385  \n",
       "min       89.240000               0.000000           0.000000  \n",
       "25%      243.500000               0.000000           0.000000  \n",
       "50%      321.130000               0.000000           0.000000  \n",
       "75%      455.930000               0.000000           0.000000  \n",
       "max     1112.620000               1.000000           1.000000  "
      ]
     },
     "execution_count": 21,
     "metadata": {},
     "output_type": "execute_result"
    }
   ],
   "source": [
    "test.describe()"
   ]
  },
  {
   "cell_type": "markdown",
   "id": "a064bd27-2f30-4ec1-b525-d0f198d1b330",
   "metadata": {},
   "source": [
    "From the statistical summary of test data;\n",
    "\n",
    "In **checkout_price** the mean values and median value have some difference it may occur due to **outliers**, same as in **base_price** also"
   ]
  },
  {
   "cell_type": "code",
   "execution_count": 23,
   "id": "4d05a4d1-8bee-4c76-b7ee-4300e610499f",
   "metadata": {},
   "outputs": [
    {
     "data": {
      "text/html": [
       "<div>\n",
       "<style scoped>\n",
       "    .dataframe tbody tr th:only-of-type {\n",
       "        vertical-align: middle;\n",
       "    }\n",
       "\n",
       "    .dataframe tbody tr th {\n",
       "        vertical-align: top;\n",
       "    }\n",
       "\n",
       "    .dataframe thead th {\n",
       "        text-align: right;\n",
       "    }\n",
       "</style>\n",
       "<table border=\"1\" class=\"dataframe\">\n",
       "  <thead>\n",
       "    <tr style=\"text-align: right;\">\n",
       "      <th></th>\n",
       "      <th>id</th>\n",
       "      <th>week</th>\n",
       "      <th>center_id</th>\n",
       "      <th>meal_id</th>\n",
       "      <th>checkout_price</th>\n",
       "      <th>base_price</th>\n",
       "      <th>emailer_for_promotion</th>\n",
       "      <th>homepage_featured</th>\n",
       "      <th>num_orders</th>\n",
       "    </tr>\n",
       "  </thead>\n",
       "  <tbody>\n",
       "    <tr>\n",
       "      <th>count</th>\n",
       "      <td>4.565480e+05</td>\n",
       "      <td>456548.000000</td>\n",
       "      <td>456548.000000</td>\n",
       "      <td>456548.000000</td>\n",
       "      <td>456548.000000</td>\n",
       "      <td>456548.000000</td>\n",
       "      <td>456548.000000</td>\n",
       "      <td>456548.00000</td>\n",
       "      <td>456548.000000</td>\n",
       "    </tr>\n",
       "    <tr>\n",
       "      <th>mean</th>\n",
       "      <td>1.250096e+06</td>\n",
       "      <td>74.768771</td>\n",
       "      <td>82.105796</td>\n",
       "      <td>2024.337458</td>\n",
       "      <td>332.238933</td>\n",
       "      <td>354.156627</td>\n",
       "      <td>0.081152</td>\n",
       "      <td>0.10920</td>\n",
       "      <td>261.872760</td>\n",
       "    </tr>\n",
       "    <tr>\n",
       "      <th>std</th>\n",
       "      <td>1.443548e+05</td>\n",
       "      <td>41.524956</td>\n",
       "      <td>45.975046</td>\n",
       "      <td>547.420920</td>\n",
       "      <td>152.939723</td>\n",
       "      <td>160.715914</td>\n",
       "      <td>0.273069</td>\n",
       "      <td>0.31189</td>\n",
       "      <td>395.922798</td>\n",
       "    </tr>\n",
       "    <tr>\n",
       "      <th>min</th>\n",
       "      <td>1.000000e+06</td>\n",
       "      <td>1.000000</td>\n",
       "      <td>10.000000</td>\n",
       "      <td>1062.000000</td>\n",
       "      <td>2.970000</td>\n",
       "      <td>55.350000</td>\n",
       "      <td>0.000000</td>\n",
       "      <td>0.00000</td>\n",
       "      <td>13.000000</td>\n",
       "    </tr>\n",
       "    <tr>\n",
       "      <th>25%</th>\n",
       "      <td>1.124999e+06</td>\n",
       "      <td>39.000000</td>\n",
       "      <td>43.000000</td>\n",
       "      <td>1558.000000</td>\n",
       "      <td>228.950000</td>\n",
       "      <td>243.500000</td>\n",
       "      <td>0.000000</td>\n",
       "      <td>0.00000</td>\n",
       "      <td>54.000000</td>\n",
       "    </tr>\n",
       "    <tr>\n",
       "      <th>50%</th>\n",
       "      <td>1.250184e+06</td>\n",
       "      <td>76.000000</td>\n",
       "      <td>76.000000</td>\n",
       "      <td>1993.000000</td>\n",
       "      <td>296.820000</td>\n",
       "      <td>310.460000</td>\n",
       "      <td>0.000000</td>\n",
       "      <td>0.00000</td>\n",
       "      <td>136.000000</td>\n",
       "    </tr>\n",
       "    <tr>\n",
       "      <th>75%</th>\n",
       "      <td>1.375140e+06</td>\n",
       "      <td>111.000000</td>\n",
       "      <td>110.000000</td>\n",
       "      <td>2539.000000</td>\n",
       "      <td>445.230000</td>\n",
       "      <td>458.870000</td>\n",
       "      <td>0.000000</td>\n",
       "      <td>0.00000</td>\n",
       "      <td>324.000000</td>\n",
       "    </tr>\n",
       "    <tr>\n",
       "      <th>max</th>\n",
       "      <td>1.499999e+06</td>\n",
       "      <td>145.000000</td>\n",
       "      <td>186.000000</td>\n",
       "      <td>2956.000000</td>\n",
       "      <td>866.270000</td>\n",
       "      <td>866.270000</td>\n",
       "      <td>1.000000</td>\n",
       "      <td>1.00000</td>\n",
       "      <td>24299.000000</td>\n",
       "    </tr>\n",
       "  </tbody>\n",
       "</table>\n",
       "</div>"
      ],
      "text/plain": [
       "                 id           week      center_id        meal_id  \\\n",
       "count  4.565480e+05  456548.000000  456548.000000  456548.000000   \n",
       "mean   1.250096e+06      74.768771      82.105796    2024.337458   \n",
       "std    1.443548e+05      41.524956      45.975046     547.420920   \n",
       "min    1.000000e+06       1.000000      10.000000    1062.000000   \n",
       "25%    1.124999e+06      39.000000      43.000000    1558.000000   \n",
       "50%    1.250184e+06      76.000000      76.000000    1993.000000   \n",
       "75%    1.375140e+06     111.000000     110.000000    2539.000000   \n",
       "max    1.499999e+06     145.000000     186.000000    2956.000000   \n",
       "\n",
       "       checkout_price     base_price  emailer_for_promotion  \\\n",
       "count   456548.000000  456548.000000          456548.000000   \n",
       "mean       332.238933     354.156627               0.081152   \n",
       "std        152.939723     160.715914               0.273069   \n",
       "min          2.970000      55.350000               0.000000   \n",
       "25%        228.950000     243.500000               0.000000   \n",
       "50%        296.820000     310.460000               0.000000   \n",
       "75%        445.230000     458.870000               0.000000   \n",
       "max        866.270000     866.270000               1.000000   \n",
       "\n",
       "       homepage_featured     num_orders  \n",
       "count       456548.00000  456548.000000  \n",
       "mean             0.10920     261.872760  \n",
       "std              0.31189     395.922798  \n",
       "min              0.00000      13.000000  \n",
       "25%              0.00000      54.000000  \n",
       "50%              0.00000     136.000000  \n",
       "75%              0.00000     324.000000  \n",
       "max              1.00000   24299.000000  "
      ]
     },
     "execution_count": 23,
     "metadata": {},
     "output_type": "execute_result"
    }
   ],
   "source": [
    "train.describe()"
   ]
  },
  {
   "cell_type": "markdown",
   "id": "17088b51-c58a-4761-8ca1-6f2caefc16e1",
   "metadata": {},
   "source": [
    "From the statistical summary in train data;\n",
    "\n",
    "In **checkout_price** the mean values and median value have some difference it may occur due to **outliers**, same as in **base_price** also"
   ]
  },
  {
   "cell_type": "markdown",
   "id": "2f544ac8-29b3-4f0e-b233-4dfacaff67ea",
   "metadata": {},
   "source": [
    "### Data Preprocessing"
   ]
  },
  {
   "cell_type": "markdown",
   "id": "cec1ea0d-3e02-475c-84af-5cd17d7b3daa",
   "metadata": {
    "jp-MarkdownHeadingCollapsed": true
   },
   "source": [
    "#### Missing Values"
   ]
  },
  {
   "cell_type": "code",
   "execution_count": 27,
   "id": "6bcdf2dd-d6ed-4d31-9a11-45a53736f8be",
   "metadata": {},
   "outputs": [
    {
     "data": {
      "text/plain": [
       "id                       0\n",
       "week                     0\n",
       "center_id                0\n",
       "meal_id                  0\n",
       "checkout_price           0\n",
       "base_price               0\n",
       "emailer_for_promotion    0\n",
       "homepage_featured        0\n",
       "dtype: int64"
      ]
     },
     "execution_count": 27,
     "metadata": {},
     "output_type": "execute_result"
    }
   ],
   "source": [
    "test.isna().sum()"
   ]
  },
  {
   "cell_type": "markdown",
   "id": "794902fd-94a9-4be9-969b-42f36e746097",
   "metadata": {},
   "source": [
    "Their is **no missing value** in test dataset"
   ]
  },
  {
   "cell_type": "code",
   "execution_count": 29,
   "id": "b2452152-4dc9-4a9d-b738-84c47d69743d",
   "metadata": {},
   "outputs": [
    {
     "data": {
      "text/plain": [
       "id                       0\n",
       "week                     0\n",
       "center_id                0\n",
       "meal_id                  0\n",
       "checkout_price           0\n",
       "base_price               0\n",
       "emailer_for_promotion    0\n",
       "homepage_featured        0\n",
       "num_orders               0\n",
       "dtype: int64"
      ]
     },
     "execution_count": 29,
     "metadata": {},
     "output_type": "execute_result"
    }
   ],
   "source": [
    "train.isna().sum()"
   ]
  },
  {
   "cell_type": "markdown",
   "id": "c33100b6-e458-43bc-9d80-e989045f3763",
   "metadata": {},
   "source": [
    "Their is **no missing value** in train dataset"
   ]
  },
  {
   "cell_type": "markdown",
   "id": "6dadcbb8-15d0-43ed-910f-3d6a3fe12e66",
   "metadata": {
    "jp-MarkdownHeadingCollapsed": true
   },
   "source": [
    "#### Duplicate Values"
   ]
  },
  {
   "cell_type": "markdown",
   "id": "97c934a9-4f85-4934-b2cc-80168d86e917",
   "metadata": {
    "jp-MarkdownHeadingCollapsed": true
   },
   "source": [
    "##### Rows"
   ]
  },
  {
   "cell_type": "code",
   "execution_count": 33,
   "id": "a792d62a-d887-4213-9265-d4e6bd922993",
   "metadata": {},
   "outputs": [
    {
     "data": {
      "text/plain": [
       "0"
      ]
     },
     "execution_count": 33,
     "metadata": {},
     "output_type": "execute_result"
    }
   ],
   "source": [
    "test.duplicated().sum()"
   ]
  },
  {
   "cell_type": "code",
   "execution_count": 34,
   "id": "b6b36adb-c2f8-4091-935d-b1ccf305c9d4",
   "metadata": {},
   "outputs": [
    {
     "data": {
      "text/plain": [
       "0"
      ]
     },
     "execution_count": 34,
     "metadata": {},
     "output_type": "execute_result"
    }
   ],
   "source": [
    "train.duplicated().sum()"
   ]
  },
  {
   "cell_type": "markdown",
   "id": "c344d95f-9a6e-48b5-a8f5-801308b01713",
   "metadata": {
    "jp-MarkdownHeadingCollapsed": true
   },
   "source": [
    "##### Columns"
   ]
  },
  {
   "cell_type": "code",
   "execution_count": 36,
   "id": "f19761ae-07f3-4cef-ba6e-c990a2d3308c",
   "metadata": {},
   "outputs": [
    {
     "data": {
      "text/plain": [
       "0"
      ]
     },
     "execution_count": 36,
     "metadata": {},
     "output_type": "execute_result"
    }
   ],
   "source": [
    "test.columns.duplicated().sum()"
   ]
  },
  {
   "cell_type": "code",
   "execution_count": 37,
   "id": "90dd0bd2-a495-4030-b682-a9029ef40639",
   "metadata": {},
   "outputs": [
    {
     "data": {
      "text/plain": [
       "0"
      ]
     },
     "execution_count": 37,
     "metadata": {},
     "output_type": "execute_result"
    }
   ],
   "source": [
    "train.columns.duplicated().sum()"
   ]
  },
  {
   "cell_type": "markdown",
   "id": "078c0b04-3475-45ce-85ac-4fd1a5270cfe",
   "metadata": {},
   "source": [
    "Their is no duplicate values in the test and train data"
   ]
  },
  {
   "cell_type": "markdown",
   "id": "ef203b83-513d-4ea9-935b-d2b03ee59d31",
   "metadata": {},
   "source": [
    "#### Display Outliers in boxplot:"
   ]
  },
  {
   "cell_type": "markdown",
   "id": "9c092b03-5d0e-4319-861d-d83dc5ff8958",
   "metadata": {
    "jp-MarkdownHeadingCollapsed": true
   },
   "source": [
    "##### Numerical columns"
   ]
  },
  {
   "cell_type": "code",
   "execution_count": 41,
   "id": "896e25c3-3527-4cf0-be65-7a33571e338c",
   "metadata": {},
   "outputs": [
    {
     "data": {
      "text/plain": [
       "['id',\n",
       " 'week',\n",
       " 'center_id',\n",
       " 'meal_id',\n",
       " 'checkout_price',\n",
       " 'base_price',\n",
       " 'emailer_for_promotion',\n",
       " 'homepage_featured']"
      ]
     },
     "execution_count": 41,
     "metadata": {},
     "output_type": "execute_result"
    }
   ],
   "source": [
    "# Identify set of numerical columns in test data\n",
    "num_test=test.select_dtypes(include='number')\n",
    "num_col1=num_test.columns.tolist()\n",
    "num_col1"
   ]
  },
  {
   "cell_type": "code",
   "execution_count": 42,
   "id": "e51281fb-c971-4708-8a44-009428c88140",
   "metadata": {},
   "outputs": [
    {
     "data": {
      "text/plain": [
       "['id',\n",
       " 'week',\n",
       " 'center_id',\n",
       " 'meal_id',\n",
       " 'checkout_price',\n",
       " 'base_price',\n",
       " 'emailer_for_promotion',\n",
       " 'homepage_featured',\n",
       " 'num_orders']"
      ]
     },
     "execution_count": 42,
     "metadata": {},
     "output_type": "execute_result"
    }
   ],
   "source": [
    "# Identify set of numerical columns in train data\n",
    "num_train=train.select_dtypes(include='number')\n",
    "num_col2=num_train.columns.tolist()\n",
    "num_col2"
   ]
  },
  {
   "cell_type": "markdown",
   "id": "99750010-49d1-4287-ba07-98a8dd012fc1",
   "metadata": {
    "jp-MarkdownHeadingCollapsed": true
   },
   "source": [
    "##### Categorical Columns"
   ]
  },
  {
   "cell_type": "code",
   "execution_count": 44,
   "id": "1aa33969-1b52-4cea-8666-b44738afac37",
   "metadata": {},
   "outputs": [
    {
     "data": {
      "text/plain": [
       "[]"
      ]
     },
     "execution_count": 44,
     "metadata": {},
     "output_type": "execute_result"
    }
   ],
   "source": [
    "# Identify set of categorical columns in test data\n",
    "cat_test=test.select_dtypes(include='object')\n",
    "cat_col1=cat_test.columns.tolist()\n",
    "cat_col1"
   ]
  },
  {
   "cell_type": "code",
   "execution_count": 45,
   "id": "01f73a9e-1edb-477d-abd4-42c4d9af8cdb",
   "metadata": {},
   "outputs": [
    {
     "data": {
      "text/plain": [
       "[]"
      ]
     },
     "execution_count": 45,
     "metadata": {},
     "output_type": "execute_result"
    }
   ],
   "source": [
    "# Identify set of categorical columns:\n",
    "cat_train=train.select_dtypes(include='object')\n",
    "cat_col2=cat_train.columns.tolist()\n",
    "cat_col2"
   ]
  },
  {
   "cell_type": "markdown",
   "id": "6ee18ff2-c60d-49e0-bd54-ba408d841f24",
   "metadata": {},
   "source": [
    "From the above information we have no categorical columns that is **all the columns contain numerical values.**"
   ]
  },
  {
   "cell_type": "markdown",
   "id": "d599c730-81dc-4c67-9c2d-7fe79ac88d9f",
   "metadata": {
    "jp-MarkdownHeadingCollapsed": true
   },
   "source": [
    "##### Outliers"
   ]
  },
  {
   "cell_type": "code",
   "execution_count": 48,
   "id": "d9be474e-5e34-44e7-abee-d09ee1424e93",
   "metadata": {},
   "outputs": [
    {
     "data": {
      "image/png": "[encoded data removed]",
      "text/plain": [
       "<Figure size 640x480 with 1 Axes>"
      ]
     },
     "metadata": {},
     "output_type": "display_data"
    }
   ],
   "source": [
    "plt.boxplot(num_test)\n",
    "plt.show()"
   ]
  },
  {
   "cell_type": "code",
   "execution_count": 49,
   "id": "9aaf2a66-bc94-479a-a151-5e43cabe6311",
   "metadata": {},
   "outputs": [
    {
     "data": {
      "image/png": "[encoded data removed]",
      "text/plain": [
       "<Figure size 640x480 with 1 Axes>"
      ]
     },
     "metadata": {},
     "output_type": "display_data"
    }
   ],
   "source": [
    "plt.boxplot(num_train)\n",
    "plt.show()"
   ]
  },
  {
   "cell_type": "markdown",
   "id": "5410a6f6-eda1-4cdf-9b66-a612f60da529",
   "metadata": {
    "jp-MarkdownHeadingCollapsed": true
   },
   "source": [
    "#### Scaling"
   ]
  },
  {
   "cell_type": "code",
   "execution_count": 51,
   "id": "4ff16ef4-bc00-440a-8a8c-c5df9de139da",
   "metadata": {},
   "outputs": [],
   "source": [
    "from sklearn.preprocessing import StandardScaler # for scaling using standard scaler"
   ]
  },
  {
   "cell_type": "code",
   "execution_count": 52,
   "id": "3ea71c8f-55de-4fef-a561-d0e652ead6ec",
   "metadata": {},
   "outputs": [
    {
     "data": {
      "text/html": [
       "<div>\n",
       "<style scoped>\n",
       "    .dataframe tbody tr th:only-of-type {\n",
       "        vertical-align: middle;\n",
       "    }\n",
       "\n",
       "    .dataframe tbody tr th {\n",
       "        vertical-align: top;\n",
       "    }\n",
       "\n",
       "    .dataframe thead th {\n",
       "        text-align: right;\n",
       "    }\n",
       "</style>\n",
       "<table border=\"1\" class=\"dataframe\">\n",
       "  <thead>\n",
       "    <tr style=\"text-align: right;\">\n",
       "      <th></th>\n",
       "      <th>id</th>\n",
       "      <th>week</th>\n",
       "      <th>center_id</th>\n",
       "      <th>meal_id</th>\n",
       "      <th>checkout_price</th>\n",
       "      <th>base_price</th>\n",
       "      <th>emailer_for_promotion</th>\n",
       "      <th>homepage_featured</th>\n",
       "    </tr>\n",
       "  </thead>\n",
       "  <tbody>\n",
       "    <tr>\n",
       "      <th>0</th>\n",
       "      <td>-1.527818</td>\n",
       "      <td>-1.563469</td>\n",
       "      <td>-0.58546</td>\n",
       "      <td>-0.268769</td>\n",
       "      <td>-1.193987</td>\n",
       "      <td>-1.272230</td>\n",
       "      <td>-0.266764</td>\n",
       "      <td>-0.297591</td>\n",
       "    </tr>\n",
       "    <tr>\n",
       "      <th>1</th>\n",
       "      <td>-0.841255</td>\n",
       "      <td>-1.563469</td>\n",
       "      <td>-0.58546</td>\n",
       "      <td>-0.071397</td>\n",
       "      <td>-1.180991</td>\n",
       "      <td>-1.272230</td>\n",
       "      <td>-0.266764</td>\n",
       "      <td>-0.297591</td>\n",
       "    </tr>\n",
       "    <tr>\n",
       "      <th>2</th>\n",
       "      <td>-0.248126</td>\n",
       "      <td>-1.563469</td>\n",
       "      <td>-0.58546</td>\n",
       "      <td>0.926427</td>\n",
       "      <td>-1.200290</td>\n",
       "      <td>-1.272037</td>\n",
       "      <td>-0.266764</td>\n",
       "      <td>-0.297591</td>\n",
       "    </tr>\n",
       "    <tr>\n",
       "      <th>3</th>\n",
       "      <td>-1.149990</td>\n",
       "      <td>-1.563469</td>\n",
       "      <td>-0.58546</td>\n",
       "      <td>1.094558</td>\n",
       "      <td>-1.168579</td>\n",
       "      <td>-1.253474</td>\n",
       "      <td>-0.266764</td>\n",
       "      <td>-0.297591</td>\n",
       "    </tr>\n",
       "    <tr>\n",
       "      <th>4</th>\n",
       "      <td>1.057537</td>\n",
       "      <td>-1.563469</td>\n",
       "      <td>-0.58546</td>\n",
       "      <td>-1.432897</td>\n",
       "      <td>-1.156168</td>\n",
       "      <td>-1.241163</td>\n",
       "      <td>-0.266764</td>\n",
       "      <td>-0.297591</td>\n",
       "    </tr>\n",
       "  </tbody>\n",
       "</table>\n",
       "</div>"
      ],
      "text/plain": [
       "         id      week  center_id   meal_id  checkout_price  base_price  \\\n",
       "0 -1.527818 -1.563469   -0.58546 -0.268769       -1.193987   -1.272230   \n",
       "1 -0.841255 -1.563469   -0.58546 -0.071397       -1.180991   -1.272230   \n",
       "2 -0.248126 -1.563469   -0.58546  0.926427       -1.200290   -1.272037   \n",
       "3 -1.149990 -1.563469   -0.58546  1.094558       -1.168579   -1.253474   \n",
       "4  1.057537 -1.563469   -0.58546 -1.432897       -1.156168   -1.241163   \n",
       "\n",
       "   emailer_for_promotion  homepage_featured  \n",
       "0              -0.266764          -0.297591  \n",
       "1              -0.266764          -0.297591  \n",
       "2              -0.266764          -0.297591  \n",
       "3              -0.266764          -0.297591  \n",
       "4              -0.266764          -0.297591  "
      ]
     },
     "execution_count": 52,
     "metadata": {},
     "output_type": "execute_result"
    }
   ],
   "source": [
    "std_scaler = StandardScaler()\n",
    "test[num_col1]=std_scaler.fit_transform(test[num_col1])\n",
    "test.head()"
   ]
  },
  {
   "cell_type": "code",
   "execution_count": 53,
   "id": "63fe93c8-5f24-4737-a8a7-1956c3047f38",
   "metadata": {},
   "outputs": [
    {
     "data": {
      "text/html": [
       "<div>\n",
       "<style scoped>\n",
       "    .dataframe tbody tr th:only-of-type {\n",
       "        vertical-align: middle;\n",
       "    }\n",
       "\n",
       "    .dataframe tbody tr th {\n",
       "        vertical-align: top;\n",
       "    }\n",
       "\n",
       "    .dataframe thead th {\n",
       "        text-align: right;\n",
       "    }\n",
       "</style>\n",
       "<table border=\"1\" class=\"dataframe\">\n",
       "  <thead>\n",
       "    <tr style=\"text-align: right;\">\n",
       "      <th></th>\n",
       "      <th>id</th>\n",
       "      <th>week</th>\n",
       "      <th>center_id</th>\n",
       "      <th>meal_id</th>\n",
       "      <th>checkout_price</th>\n",
       "      <th>base_price</th>\n",
       "      <th>emailer_for_promotion</th>\n",
       "      <th>homepage_featured</th>\n",
       "      <th>num_orders</th>\n",
       "    </tr>\n",
       "  </thead>\n",
       "  <tbody>\n",
       "    <tr>\n",
       "      <th>0</th>\n",
       "      <td>0.896845</td>\n",
       "      <td>-1.776494</td>\n",
       "      <td>-0.589577</td>\n",
       "      <td>-0.254535</td>\n",
       "      <td>-1.277687</td>\n",
       "      <td>-1.256048</td>\n",
       "      <td>-0.297187</td>\n",
       "      <td>-0.350123</td>\n",
       "      <td>177</td>\n",
       "    </tr>\n",
       "    <tr>\n",
       "      <th>1</th>\n",
       "      <td>1.502326</td>\n",
       "      <td>-1.776494</td>\n",
       "      <td>-0.589577</td>\n",
       "      <td>-0.057246</td>\n",
       "      <td>-1.277687</td>\n",
       "      <td>-1.358465</td>\n",
       "      <td>-0.297187</td>\n",
       "      <td>-0.350123</td>\n",
       "      <td>270</td>\n",
       "    </tr>\n",
       "    <tr>\n",
       "      <th>2</th>\n",
       "      <td>0.671213</td>\n",
       "      <td>-1.776494</td>\n",
       "      <td>-0.589577</td>\n",
       "      <td>0.940160</td>\n",
       "      <td>-1.290568</td>\n",
       "      <td>-1.358278</td>\n",
       "      <td>-0.297187</td>\n",
       "      <td>-0.350123</td>\n",
       "      <td>189</td>\n",
       "    </tr>\n",
       "    <tr>\n",
       "      <th>3</th>\n",
       "      <td>0.610550</td>\n",
       "      <td>-1.776494</td>\n",
       "      <td>-0.589577</td>\n",
       "      <td>0.209460</td>\n",
       "      <td>0.047477</td>\n",
       "      <td>0.518763</td>\n",
       "      <td>-0.297187</td>\n",
       "      <td>-0.350123</td>\n",
       "      <td>54</td>\n",
       "    </tr>\n",
       "    <tr>\n",
       "      <th>4</th>\n",
       "      <td>1.374349</td>\n",
       "      <td>-1.776494</td>\n",
       "      <td>-0.589577</td>\n",
       "      <td>1.108221</td>\n",
       "      <td>-0.580222</td>\n",
       "      <td>-0.694746</td>\n",
       "      <td>-0.297187</td>\n",
       "      <td>-0.350123</td>\n",
       "      <td>40</td>\n",
       "    </tr>\n",
       "  </tbody>\n",
       "</table>\n",
       "</div>"
      ],
      "text/plain": [
       "         id      week  center_id   meal_id  checkout_price  base_price  \\\n",
       "0  0.896845 -1.776494  -0.589577 -0.254535       -1.277687   -1.256048   \n",
       "1  1.502326 -1.776494  -0.589577 -0.057246       -1.277687   -1.358465   \n",
       "2  0.671213 -1.776494  -0.589577  0.940160       -1.290568   -1.358278   \n",
       "3  0.610550 -1.776494  -0.589577  0.209460        0.047477    0.518763   \n",
       "4  1.374349 -1.776494  -0.589577  1.108221       -0.580222   -0.694746   \n",
       "\n",
       "   emailer_for_promotion  homepage_featured  num_orders  \n",
       "0              -0.297187          -0.350123         177  \n",
       "1              -0.297187          -0.350123         270  \n",
       "2              -0.297187          -0.350123         189  \n",
       "3              -0.297187          -0.350123          54  \n",
       "4              -0.297187          -0.350123          40  "
      ]
     },
     "execution_count": 53,
     "metadata": {},
     "output_type": "execute_result"
    }
   ],
   "source": [
    "std_scaler = StandardScaler()\n",
    "train[['id', 'week',\t'center_id', 'meal_id',\t'checkout_price', 'base_price', 'emailer_for_promotion', 'homepage_featured']]=std_scaler.fit_transform(train[['id', 'week',\t'center_id', 'meal_id',\t'checkout_price', 'base_price', 'emailer_for_promotion', 'homepage_featured']])\n",
    "train.head()"
   ]
  },
  {
   "cell_type": "markdown",
   "id": "1a655c6b-4d6b-49a3-b3b4-cd2fb8b24092",
   "metadata": {
    "jp-MarkdownHeadingCollapsed": true
   },
   "source": [
    "##### Univariate Analysis"
   ]
  },
  {
   "cell_type": "markdown",
   "id": "b4a17080-caed-4818-b724-10d843c802c9",
   "metadata": {},
   "source": [
    "understanding the distribution and properties of individual variables."
   ]
  },
  {
   "cell_type": "code",
   "execution_count": 56,
   "id": "0e55de12-fcd0-4778-b078-c0753def7138",
   "metadata": {},
   "outputs": [],
   "source": [
    "import math"
   ]
  },
  {
   "cell_type": "code",
   "execution_count": 57,
   "id": "6f20be2a-caad-45be-9920-978a1544d29f",
   "metadata": {},
   "outputs": [],
   "source": [
    "# # Define the number of columns and rows for the subplots\n",
    "# n_cols = 1  # Number of subplots per row\n",
    "# n_rows = math.ceil(len(num_col2) / n_cols)  # Calculate required number of rows\n",
    "\n",
    "# # Create subplots\n",
    "# fig, axes = plt.subplots(n_rows, n_cols, figsize=(15, 5 * n_rows))\n",
    "\n",
    "# # Flatten axes array to easily iterate (even if multiple rows)\n",
    "# axes = axes.flatten()\n",
    "\n",
    "# # Plot histograms for each column\n",
    "# for i, col in enumerate(num_col2):\n",
    "#     sns.histplot(num_train[col], kde=True, ax=axes[i], color='blue', edgecolor='black')  # Pass the data for each column\n",
    "#     axes[i].set_title(f\"{col}\")\n",
    "#     axes[i].set_xlabel(col)\n",
    "\n",
    "# # Hide any unused subplots (if the number of columns isn't a multiple of n_cols)\n",
    "# for j in range(i + 1, len(axes)):\n",
    "#     axes[j].set_visible(False)\n",
    "\n",
    "# plt.tight_layout()\n",
    "# plt.show()"
   ]
  },
  {
   "cell_type": "markdown",
   "id": "0420cb5c-c1e2-48f6-916e-07511f265eee",
   "metadata": {
    "jp-MarkdownHeadingCollapsed": true
   },
   "source": [
    "##### Bivariate ANalysis"
   ]
  },
  {
   "cell_type": "markdown",
   "id": "6420a988-17b7-4308-b7fc-a342de2823fb",
   "metadata": {
    "jp-MarkdownHeadingCollapsed": true
   },
   "source": [
    "Relationship between an independent variable and the target variable"
   ]
  },
  {
   "cell_type": "code",
   "execution_count": 60,
   "id": "8b490ce0-8edf-4dae-8419-4db5d4c54bc0",
   "metadata": {},
   "outputs": [],
   "source": [
    "# # Define the number of columns and rows for the subplots\n",
    "# n_cols = 1  # Number of subplots per row\n",
    "# n_rows = math.ceil(len(num_col2) / n_cols)  # Calculate required number of rows\n",
    "\n",
    "# # Create subplots\n",
    "# fig, axes = plt.subplots(n_rows, n_cols, figsize=(15, 5 * n_rows))\n",
    "# axes = axes.flatten()\n",
    "\n",
    "# # Plot scatter plots with regression lines for each numerical feature against 'num_orders'\n",
    "# for i, col in enumerate(num_col2):\n",
    "#     sns.regplot(x=num_train[col], y=train['num_orders'], ax=axes[i], scatter_kws={'alpha': 0.6}, line_kws={'color': 'red'})\n",
    "#     axes[i].set_title(f\"Scatter Plot with Trend Line: {col} vs. num_orders\")\n",
    "#     axes[i].set_xlabel(col)\n",
    "#     axes[i].set_ylabel('num_orders')\n",
    "\n",
    "# # Hide any unused subplots (if the number of columns isn't a multiple of n_cols)\n",
    "# for j in range(i + 1, len(axes)):\n",
    "#     axes[j].set_visible(False)\n",
    "\n",
    "# plt.tight_layout()\n",
    "# plt.show()"
   ]
  },
  {
   "cell_type": "markdown",
   "id": "f1f1478a-2e22-4e8c-96d5-3cf43abad73e",
   "metadata": {},
   "source": [
    "### EDA"
   ]
  },
  {
   "cell_type": "markdown",
   "id": "d73e17f3-a588-45c0-8760-cc966afea3b5",
   "metadata": {
    "jp-MarkdownHeadingCollapsed": true
   },
   "source": [
    "##### Correlation Matrix"
   ]
  },
  {
   "cell_type": "code",
   "execution_count": 63,
   "id": "7e29530c-004a-438f-a682-e2cb47a75e1b",
   "metadata": {},
   "outputs": [
    {
     "data": {
      "text/html": [
       "<div>\n",
       "<style scoped>\n",
       "    .dataframe tbody tr th:only-of-type {\n",
       "        vertical-align: middle;\n",
       "    }\n",
       "\n",
       "    .dataframe tbody tr th {\n",
       "        vertical-align: top;\n",
       "    }\n",
       "\n",
       "    .dataframe thead th {\n",
       "        text-align: right;\n",
       "    }\n",
       "</style>\n",
       "<table border=\"1\" class=\"dataframe\">\n",
       "  <thead>\n",
       "    <tr style=\"text-align: right;\">\n",
       "      <th></th>\n",
       "      <th>id</th>\n",
       "      <th>week</th>\n",
       "      <th>center_id</th>\n",
       "      <th>meal_id</th>\n",
       "      <th>checkout_price</th>\n",
       "      <th>base_price</th>\n",
       "      <th>emailer_for_promotion</th>\n",
       "      <th>homepage_featured</th>\n",
       "      <th>num_orders</th>\n",
       "    </tr>\n",
       "  </thead>\n",
       "  <tbody>\n",
       "    <tr>\n",
       "      <th>id</th>\n",
       "      <td>1.000000</td>\n",
       "      <td>0.002225</td>\n",
       "      <td>0.002641</td>\n",
       "      <td>0.000488</td>\n",
       "      <td>0.001941</td>\n",
       "      <td>0.002909</td>\n",
       "      <td>0.002001</td>\n",
       "      <td>0.003111</td>\n",
       "      <td>0.000702</td>\n",
       "    </tr>\n",
       "    <tr>\n",
       "      <th>week</th>\n",
       "      <td>0.002225</td>\n",
       "      <td>1.000000</td>\n",
       "      <td>-0.003450</td>\n",
       "      <td>0.019814</td>\n",
       "      <td>0.026581</td>\n",
       "      <td>0.028614</td>\n",
       "      <td>-0.000841</td>\n",
       "      <td>-0.008263</td>\n",
       "      <td>-0.017210</td>\n",
       "    </tr>\n",
       "    <tr>\n",
       "      <th>center_id</th>\n",
       "      <td>0.002641</td>\n",
       "      <td>-0.003450</td>\n",
       "      <td>1.000000</td>\n",
       "      <td>0.009893</td>\n",
       "      <td>0.001348</td>\n",
       "      <td>0.000604</td>\n",
       "      <td>0.013658</td>\n",
       "      <td>-0.005043</td>\n",
       "      <td>-0.053035</td>\n",
       "    </tr>\n",
       "    <tr>\n",
       "      <th>meal_id</th>\n",
       "      <td>0.000488</td>\n",
       "      <td>0.019814</td>\n",
       "      <td>0.009893</td>\n",
       "      <td>1.000000</td>\n",
       "      <td>0.010748</td>\n",
       "      <td>0.002605</td>\n",
       "      <td>0.013402</td>\n",
       "      <td>0.016354</td>\n",
       "      <td>0.010597</td>\n",
       "    </tr>\n",
       "    <tr>\n",
       "      <th>checkout_price</th>\n",
       "      <td>0.001941</td>\n",
       "      <td>0.026581</td>\n",
       "      <td>0.001348</td>\n",
       "      <td>0.010748</td>\n",
       "      <td>1.000000</td>\n",
       "      <td>0.953389</td>\n",
       "      <td>0.004818</td>\n",
       "      <td>-0.057184</td>\n",
       "      <td>-0.282108</td>\n",
       "    </tr>\n",
       "    <tr>\n",
       "      <th>base_price</th>\n",
       "      <td>0.002909</td>\n",
       "      <td>0.028614</td>\n",
       "      <td>0.000604</td>\n",
       "      <td>0.002605</td>\n",
       "      <td>0.953389</td>\n",
       "      <td>1.000000</td>\n",
       "      <td>0.171173</td>\n",
       "      <td>0.057156</td>\n",
       "      <td>-0.222306</td>\n",
       "    </tr>\n",
       "    <tr>\n",
       "      <th>emailer_for_promotion</th>\n",
       "      <td>0.002001</td>\n",
       "      <td>-0.000841</td>\n",
       "      <td>0.013658</td>\n",
       "      <td>0.013402</td>\n",
       "      <td>0.004818</td>\n",
       "      <td>0.171173</td>\n",
       "      <td>1.000000</td>\n",
       "      <td>0.390534</td>\n",
       "      <td>0.277147</td>\n",
       "    </tr>\n",
       "    <tr>\n",
       "      <th>homepage_featured</th>\n",
       "      <td>0.003111</td>\n",
       "      <td>-0.008263</td>\n",
       "      <td>-0.005043</td>\n",
       "      <td>0.016354</td>\n",
       "      <td>-0.057184</td>\n",
       "      <td>0.057156</td>\n",
       "      <td>0.390534</td>\n",
       "      <td>1.000000</td>\n",
       "      <td>0.294490</td>\n",
       "    </tr>\n",
       "    <tr>\n",
       "      <th>num_orders</th>\n",
       "      <td>0.000702</td>\n",
       "      <td>-0.017210</td>\n",
       "      <td>-0.053035</td>\n",
       "      <td>0.010597</td>\n",
       "      <td>-0.282108</td>\n",
       "      <td>-0.222306</td>\n",
       "      <td>0.277147</td>\n",
       "      <td>0.294490</td>\n",
       "      <td>1.000000</td>\n",
       "    </tr>\n",
       "  </tbody>\n",
       "</table>\n",
       "</div>"
      ],
      "text/plain": [
       "                             id      week  center_id   meal_id  \\\n",
       "id                     1.000000  0.002225   0.002641  0.000488   \n",
       "week                   0.002225  1.000000  -0.003450  0.019814   \n",
       "center_id              0.002641 -0.003450   1.000000  0.009893   \n",
       "meal_id                0.000488  0.019814   0.009893  1.000000   \n",
       "checkout_price         0.001941  0.026581   0.001348  0.010748   \n",
       "base_price             0.002909  0.028614   0.000604  0.002605   \n",
       "emailer_for_promotion  0.002001 -0.000841   0.013658  0.013402   \n",
       "homepage_featured      0.003111 -0.008263  -0.005043  0.016354   \n",
       "num_orders             0.000702 -0.017210  -0.053035  0.010597   \n",
       "\n",
       "                       checkout_price  base_price  emailer_for_promotion  \\\n",
       "id                           0.001941    0.002909               0.002001   \n",
       "week                         0.026581    0.028614              -0.000841   \n",
       "center_id                    0.001348    0.000604               0.013658   \n",
       "meal_id                      0.010748    0.002605               0.013402   \n",
       "checkout_price               1.000000    0.953389               0.004818   \n",
       "base_price                   0.953389    1.000000               0.171173   \n",
       "emailer_for_promotion        0.004818    0.171173               1.000000   \n",
       "homepage_featured           -0.057184    0.057156               0.390534   \n",
       "num_orders                  -0.282108   -0.222306               0.277147   \n",
       "\n",
       "                       homepage_featured  num_orders  \n",
       "id                              0.003111    0.000702  \n",
       "week                           -0.008263   -0.017210  \n",
       "center_id                      -0.005043   -0.053035  \n",
       "meal_id                         0.016354    0.010597  \n",
       "checkout_price                 -0.057184   -0.282108  \n",
       "base_price                      0.057156   -0.222306  \n",
       "emailer_for_promotion           0.390534    0.277147  \n",
       "homepage_featured               1.000000    0.294490  \n",
       "num_orders                      0.294490    1.000000  "
      ]
     },
     "execution_count": 63,
     "metadata": {},
     "output_type": "execute_result"
    }
   ],
   "source": [
    "num_train.corr()"
   ]
  },
  {
   "cell_type": "markdown",
   "id": "f9475520-f328-4f28-8604-df1ea93c3932",
   "metadata": {},
   "source": [
    "Correlation betweeen **base_price** and **checkout_price** is 0.953389 which means they are highly correlated. so we can drop any of the column."
   ]
  },
  {
   "cell_type": "code",
   "execution_count": 65,
   "id": "c19f87f9-dd33-467a-bccb-99e7d53b73ea",
   "metadata": {},
   "outputs": [
    {
     "data": {
      "text/plain": [
       "<Axes: xlabel='num_orders', ylabel='count'>"
      ]
     },
     "execution_count": 65,
     "metadata": {},
     "output_type": "execute_result"
    },
    {
     "data": {
      "image/png": "[encoded data removed]",
      "text/plain": [
       "<Figure size 640x480 with 1 Axes>"
      ]
     },
     "metadata": {},
     "output_type": "display_data"
    }
   ],
   "source": [
    "sns.countplot(data=train, x=\"num_orders\", hue=\"emailer_for_promotion\")"
   ]
  },
  {
   "cell_type": "code",
   "execution_count": 66,
   "id": "525934d2-1eec-4c1e-af4d-1d98917f97ef",
   "metadata": {},
   "outputs": [
    {
     "data": {
      "text/plain": [
       "<Axes: xlabel='num_orders', ylabel='count'>"
      ]
     },
     "execution_count": 66,
     "metadata": {},
     "output_type": "execute_result"
    },
    {
     "data": {
      "image/png": "[encoded data removed]",
      "text/plain": [
       "<Figure size 640x480 with 1 Axes>"
      ]
     },
     "metadata": {},
     "output_type": "display_data"
    }
   ],
   "source": [
    "sns.countplot(data=train, x=\"num_orders\", hue=\"homepage_featured\")"
   ]
  },
  {
   "cell_type": "markdown",
   "id": "bc739c94-340a-4d34-a9ed-1e3593711c5e",
   "metadata": {},
   "source": [
    "### Machine Learning Model Building"
   ]
  },
  {
   "cell_type": "code",
   "execution_count": 68,
   "id": "b0b294d1-a9a9-41bb-840f-6bce73083fc4",
   "metadata": {},
   "outputs": [],
   "source": [
    "X = train.drop('num_orders',axis=1)\n",
    "y = train['num_orders']"
   ]
  },
  {
   "cell_type": "code",
   "execution_count": 69,
   "id": "7072078e-c692-4675-b8fd-6a4bbf21907b",
   "metadata": {},
   "outputs": [],
   "source": [
    "from sklearn.ensemble import RandomForestRegressor\n",
    "rfc = RandomForestRegressor(random_state=0)"
   ]
  },
  {
   "cell_type": "code",
   "execution_count": 70,
   "id": "7ddb2536-0fbb-4d6a-81a0-c178f14e2012",
   "metadata": {},
   "outputs": [],
   "source": [
    "rfc.fit(X, y)\n",
    "y_pred_rfc = rfc.predict(test) # Make predictions on the test data"
   ]
  },
  {
   "cell_type": "code",
   "execution_count": 71,
   "id": "fe39ac57-2cb3-4d7a-a87c-0128aa804dd5",
   "metadata": {},
   "outputs": [],
   "source": [
    "# from sklearn.linear_model import LogisticRegression\n",
    "# from sklearn.neighbors import KNeighborsClassifier\n",
    "# from sklearn.ensemble import RandomForestRegressor\n",
    "# # Create models\n",
    "# log_reg = LogisticRegression() # Create logistic regression model\n",
    "# knn = KNeighborsClassifier(n_neighbors=5) # Create a KNN classifier\n",
    "\n",
    "# # Train models\n",
    "# log_reg.fit(X, y)\n",
    "# knn.fit(X, y)\n",
    "\n",
    "# # Make predictions on the test data\n",
    "# y_pred_log_reg = log_reg.predict(test.drop(['num_orders'],axis=1))\n",
    "# y_pred_knn = knn.predict(test.drop(['num_orders'],axis=1))"
   ]
  },
  {
   "cell_type": "code",
   "execution_count": 72,
   "id": "879dffc4-6f26-44b4-a3bc-17831ae26eed",
   "metadata": {},
   "outputs": [],
   "source": [
    "# # Save as CSV file\n",
    "# test['num_orders']=y_pred_rfc\n",
    "# test[['id','num_orders']].to_csv('food_demand_forcaste.csv',index=False)"
   ]
  },
  {
   "cell_type": "code",
   "execution_count": 73,
   "id": "7495f8b7-2f9b-4342-8e5e-60e5a763d9fb",
   "metadata": {},
   "outputs": [],
   "source": [
    "# import os\n",
    "# print(os.getcwd())"
   ]
  },
  {
   "cell_type": "code",
   "execution_count": 74,
   "id": "27abd92e-49b1-47d9-b13c-7ff2fb76c83d",
   "metadata": {},
   "outputs": [],
   "source": [
    "prediction=pd.DataFrame(y_pred_rfc, columns=['num_orders'])"
   ]
  },
  {
   "cell_type": "code",
   "execution_count": 75,
   "id": "511a3eda-6446-4495-87de-8fb5bfbf752f",
   "metadata": {},
   "outputs": [],
   "source": [
    "sample_df=pd.concat([test['id'],prediction], axis=1)"
   ]
  },
  {
   "cell_type": "code",
   "execution_count": 76,
   "id": "46b368a9-fa14-4267-b8d2-b849976f99ef",
   "metadata": {},
   "outputs": [],
   "source": [
    "sample_df.to_csv('food_demand_forecaste.csv', index=False)"
   ]
  },
  {
   "cell_type": "code",
   "execution_count": 77,
   "id": "b5c0b043-44ff-45c0-8710-f815f9f689c7",
   "metadata": {},
   "outputs": [
    {
     "data": {
      "text/html": [
       "<div>\n",
       "<style scoped>\n",
       "    .dataframe tbody tr th:only-of-type {\n",
       "        vertical-align: middle;\n",
       "    }\n",
       "\n",
       "    .dataframe tbody tr th {\n",
       "        vertical-align: top;\n",
       "    }\n",
       "\n",
       "    .dataframe thead th {\n",
       "        text-align: right;\n",
       "    }\n",
       "</style>\n",
       "<table border=\"1\" class=\"dataframe\">\n",
       "  <thead>\n",
       "    <tr style=\"text-align: right;\">\n",
       "      <th></th>\n",
       "      <th>id</th>\n",
       "      <th>num_orders</th>\n",
       "    </tr>\n",
       "  </thead>\n",
       "  <tbody>\n",
       "    <tr>\n",
       "      <th>0</th>\n",
       "      <td>-1.527818</td>\n",
       "      <td>233.85</td>\n",
       "    </tr>\n",
       "    <tr>\n",
       "      <th>1</th>\n",
       "      <td>-0.841255</td>\n",
       "      <td>180.68</td>\n",
       "    </tr>\n",
       "    <tr>\n",
       "      <th>2</th>\n",
       "      <td>-0.248126</td>\n",
       "      <td>99.89</td>\n",
       "    </tr>\n",
       "    <tr>\n",
       "      <th>3</th>\n",
       "      <td>-1.149990</td>\n",
       "      <td>127.67</td>\n",
       "    </tr>\n",
       "    <tr>\n",
       "      <th>4</th>\n",
       "      <td>1.057537</td>\n",
       "      <td>73.35</td>\n",
       "    </tr>\n",
       "    <tr>\n",
       "      <th>...</th>\n",
       "      <td>...</td>\n",
       "      <td>...</td>\n",
       "    </tr>\n",
       "    <tr>\n",
       "      <th>32568</th>\n",
       "      <td>0.012231</td>\n",
       "      <td>60.56</td>\n",
       "    </tr>\n",
       "    <tr>\n",
       "      <th>32569</th>\n",
       "      <td>-1.449541</td>\n",
       "      <td>39.12</td>\n",
       "    </tr>\n",
       "    <tr>\n",
       "      <th>32570</th>\n",
       "      <td>-0.626883</td>\n",
       "      <td>226.24</td>\n",
       "    </tr>\n",
       "    <tr>\n",
       "      <th>32571</th>\n",
       "      <td>1.357969</td>\n",
       "      <td>285.72</td>\n",
       "    </tr>\n",
       "    <tr>\n",
       "      <th>32572</th>\n",
       "      <td>0.296971</td>\n",
       "      <td>243.29</td>\n",
       "    </tr>\n",
       "  </tbody>\n",
       "</table>\n",
       "<p>32573 rows × 2 columns</p>\n",
       "</div>"
      ],
      "text/plain": [
       "             id  num_orders\n",
       "0     -1.527818      233.85\n",
       "1     -0.841255      180.68\n",
       "2     -0.248126       99.89\n",
       "3     -1.149990      127.67\n",
       "4      1.057537       73.35\n",
       "...         ...         ...\n",
       "32568  0.012231       60.56\n",
       "32569 -1.449541       39.12\n",
       "32570 -0.626883      226.24\n",
       "32571  1.357969      285.72\n",
       "32572  0.296971      243.29\n",
       "\n",
       "[32573 rows x 2 columns]"
      ]
     },
     "execution_count": 77,
     "metadata": {},
     "output_type": "execute_result"
    }
   ],
   "source": [
    "sample_df"
   ]
  },
  {
   "cell_type": "code",
   "execution_count": null,
   "id": "b35b35da-b49a-45c9-a07e-ab71baf1486b",
   "metadata": {},
   "outputs": [],
   "source": []
  }
 ],
 "metadata": {
  "kernelspec": {
   "display_name": "Python 3 (ipykernel)",
   "language": "python",
   "name": "python3"
  },
  "language_info": {
   "codemirror_mode": {
    "name": "ipython",
    "version": 3
   },
   "file_extension": ".py",
   "mimetype": "text/x-python",
   "name": "python",
   "nbconvert_exporter": "python",
   "pygments_lexer": "ipython3",
   "version": "3.12.7"
  }
 },
 "nbformat": 4,
 "nbformat_minor": 5
}
